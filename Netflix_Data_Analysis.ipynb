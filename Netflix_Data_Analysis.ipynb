{
 "cells": [
  {
   "cell_type": "markdown",
   "id": "6903a889",
   "metadata": {},
   "source": [
    "# Requirements"
   ]
  },
  {
   "cell_type": "markdown",
   "id": "3f41fdab",
   "metadata": {},
   "source": [
    "1. Problem Statement\n",
    "2. DataSet\n",
    "3. Sources & Access of the Data\n",
    "4. Understand the Data "
   ]
  },
  {
   "cell_type": "markdown",
   "id": "2e3ca0fd",
   "metadata": {},
   "source": [
    "# STEP_01 :- Data Gathering and Reading"
   ]
  },
  {
   "cell_type": "code",
   "execution_count": 1,
   "id": "561028bf",
   "metadata": {},
   "outputs": [],
   "source": [
    " # import libraries\n",
    "import numpy as np\n",
    "import pandas as pd"
   ]
  },
  {
   "cell_type": "code",
   "execution_count": 2,
   "id": "aedb02f3",
   "metadata": {},
   "outputs": [],
   "source": [
    "df = pd.read_csv(\"netflix_titles.csv\")"
   ]
  },
  {
   "cell_type": "code",
   "execution_count": 3,
   "id": "e1fad2ed",
   "metadata": {},
   "outputs": [
    {
     "data": {
      "text/html": [
       "<div>\n",
       "<style scoped>\n",
       "    .dataframe tbody tr th:only-of-type {\n",
       "        vertical-align: middle;\n",
       "    }\n",
       "\n",
       "    .dataframe tbody tr th {\n",
       "        vertical-align: top;\n",
       "    }\n",
       "\n",
       "    .dataframe thead th {\n",
       "        text-align: right;\n",
       "    }\n",
       "</style>\n",
       "<table border=\"1\" class=\"dataframe\">\n",
       "  <thead>\n",
       "    <tr style=\"text-align: right;\">\n",
       "      <th></th>\n",
       "      <th>show_id</th>\n",
       "      <th>type</th>\n",
       "      <th>title</th>\n",
       "      <th>director</th>\n",
       "      <th>cast</th>\n",
       "      <th>country</th>\n",
       "      <th>date_added</th>\n",
       "      <th>release_year</th>\n",
       "      <th>rating</th>\n",
       "      <th>duration</th>\n",
       "      <th>listed_in</th>\n",
       "      <th>description</th>\n",
       "    </tr>\n",
       "  </thead>\n",
       "  <tbody>\n",
       "    <tr>\n",
       "      <th>6394</th>\n",
       "      <td>s6395</td>\n",
       "      <td>Movie</td>\n",
       "      <td>Bushwick</td>\n",
       "      <td>Cary Murnion, Jonathan Milott</td>\n",
       "      <td>Dave Bautista, Brittany Snow, Angelic Zambrana...</td>\n",
       "      <td>United States</td>\n",
       "      <td>November 24, 2017</td>\n",
       "      <td>2017</td>\n",
       "      <td>TV-MA</td>\n",
       "      <td>94 min</td>\n",
       "      <td>Action &amp; Adventure, Independent Movies</td>\n",
       "      <td>When their diverse neighborhood is besieged by...</td>\n",
       "    </tr>\n",
       "    <tr>\n",
       "      <th>5195</th>\n",
       "      <td>s5196</td>\n",
       "      <td>TV Show</td>\n",
       "      <td>Together</td>\n",
       "      <td>NaN</td>\n",
       "      <td>Jeanette Aw, Dai Xiangyu, Elvin Ng, Eelyn Kok,...</td>\n",
       "      <td>Singapore</td>\n",
       "      <td>November 1, 2017</td>\n",
       "      <td>2009</td>\n",
       "      <td>TV-14</td>\n",
       "      <td>1 Season</td>\n",
       "      <td>International TV Shows, TV Dramas</td>\n",
       "      <td>Spanning 30 years, a group of dedicated and di...</td>\n",
       "    </tr>\n",
       "    <tr>\n",
       "      <th>682</th>\n",
       "      <td>s683</td>\n",
       "      <td>TV Show</td>\n",
       "      <td>Why Are You Like This</td>\n",
       "      <td>NaN</td>\n",
       "      <td>Naomi Higgins, Olivia Junkeer, Wil King</td>\n",
       "      <td>Australia</td>\n",
       "      <td>June 19, 2021</td>\n",
       "      <td>2021</td>\n",
       "      <td>TV-MA</td>\n",
       "      <td>1 Season</td>\n",
       "      <td>International TV Shows, TV Comedies</td>\n",
       "      <td>Three best friends negotiate work, fun, identi...</td>\n",
       "    </tr>\n",
       "    <tr>\n",
       "      <th>1177</th>\n",
       "      <td>s1178</td>\n",
       "      <td>Movie</td>\n",
       "      <td>Hospital</td>\n",
       "      <td>Brody Chu</td>\n",
       "      <td>Lin Po-Hung, Tai Bo, Jacqueline Zhu, Lei Hong,...</td>\n",
       "      <td>Taiwan</td>\n",
       "      <td>March 20, 2021</td>\n",
       "      <td>2020</td>\n",
       "      <td>TV-MA</td>\n",
       "      <td>90 min</td>\n",
       "      <td>Horror Movies, International Movies</td>\n",
       "      <td>In an abandoned hospital in Tainan, visitors s...</td>\n",
       "    </tr>\n",
       "    <tr>\n",
       "      <th>2852</th>\n",
       "      <td>s2853</td>\n",
       "      <td>Movie</td>\n",
       "      <td>W.E.</td>\n",
       "      <td>Madonna</td>\n",
       "      <td>Abbie Cornish, Andrea Riseborough, James D'Arc...</td>\n",
       "      <td>United Kingdom</td>\n",
       "      <td>March 3, 2020</td>\n",
       "      <td>2011</td>\n",
       "      <td>R</td>\n",
       "      <td>119 min</td>\n",
       "      <td>Dramas, Romantic Movies</td>\n",
       "      <td>This glossy ensemble drama juxtaposes the live...</td>\n",
       "    </tr>\n",
       "  </tbody>\n",
       "</table>\n",
       "</div>"
      ],
      "text/plain": [
       "     show_id     type                  title                       director  \\\n",
       "6394   s6395    Movie               Bushwick  Cary Murnion, Jonathan Milott   \n",
       "5195   s5196  TV Show               Together                            NaN   \n",
       "682     s683  TV Show  Why Are You Like This                            NaN   \n",
       "1177   s1178    Movie               Hospital                      Brody Chu   \n",
       "2852   s2853    Movie                   W.E.                        Madonna   \n",
       "\n",
       "                                                   cast         country  \\\n",
       "6394  Dave Bautista, Brittany Snow, Angelic Zambrana...   United States   \n",
       "5195  Jeanette Aw, Dai Xiangyu, Elvin Ng, Eelyn Kok,...       Singapore   \n",
       "682             Naomi Higgins, Olivia Junkeer, Wil King       Australia   \n",
       "1177  Lin Po-Hung, Tai Bo, Jacqueline Zhu, Lei Hong,...          Taiwan   \n",
       "2852  Abbie Cornish, Andrea Riseborough, James D'Arc...  United Kingdom   \n",
       "\n",
       "             date_added  release_year rating  duration  \\\n",
       "6394  November 24, 2017          2017  TV-MA    94 min   \n",
       "5195   November 1, 2017          2009  TV-14  1 Season   \n",
       "682       June 19, 2021          2021  TV-MA  1 Season   \n",
       "1177     March 20, 2021          2020  TV-MA    90 min   \n",
       "2852      March 3, 2020          2011      R   119 min   \n",
       "\n",
       "                                   listed_in  \\\n",
       "6394  Action & Adventure, Independent Movies   \n",
       "5195       International TV Shows, TV Dramas   \n",
       "682      International TV Shows, TV Comedies   \n",
       "1177     Horror Movies, International Movies   \n",
       "2852                 Dramas, Romantic Movies   \n",
       "\n",
       "                                            description  \n",
       "6394  When their diverse neighborhood is besieged by...  \n",
       "5195  Spanning 30 years, a group of dedicated and di...  \n",
       "682   Three best friends negotiate work, fun, identi...  \n",
       "1177  In an abandoned hospital in Tainan, visitors s...  \n",
       "2852  This glossy ensemble drama juxtaposes the live...  "
      ]
     },
     "execution_count": 3,
     "metadata": {},
     "output_type": "execute_result"
    }
   ],
   "source": [
    "# REMEMBER : Do not print the entire data because it is a time taking process\n",
    "df.sample(5) # You can view a random 5 rows in the dataset"
   ]
  },
  {
   "cell_type": "code",
   "execution_count": 4,
   "id": "d2bf720b",
   "metadata": {},
   "outputs": [],
   "source": [
    "df.drop([\"show_id\",\"description\"] , axis=1,inplace=True)"
   ]
  },
  {
   "cell_type": "code",
   "execution_count": 5,
   "id": "0821c493",
   "metadata": {},
   "outputs": [
    {
     "data": {
      "text/html": [
       "<div>\n",
       "<style scoped>\n",
       "    .dataframe tbody tr th:only-of-type {\n",
       "        vertical-align: middle;\n",
       "    }\n",
       "\n",
       "    .dataframe tbody tr th {\n",
       "        vertical-align: top;\n",
       "    }\n",
       "\n",
       "    .dataframe thead th {\n",
       "        text-align: right;\n",
       "    }\n",
       "</style>\n",
       "<table border=\"1\" class=\"dataframe\">\n",
       "  <thead>\n",
       "    <tr style=\"text-align: right;\">\n",
       "      <th></th>\n",
       "      <th>type</th>\n",
       "      <th>title</th>\n",
       "      <th>director</th>\n",
       "      <th>cast</th>\n",
       "      <th>country</th>\n",
       "      <th>date_added</th>\n",
       "      <th>release_year</th>\n",
       "      <th>rating</th>\n",
       "      <th>duration</th>\n",
       "      <th>listed_in</th>\n",
       "    </tr>\n",
       "  </thead>\n",
       "  <tbody>\n",
       "    <tr>\n",
       "      <th>593</th>\n",
       "      <td>Movie</td>\n",
       "      <td>Snow Day</td>\n",
       "      <td>Chris Koch</td>\n",
       "      <td>Chris Elliott, Mark Webber, Jean Smart, Schuyl...</td>\n",
       "      <td>United States</td>\n",
       "      <td>July 1, 2021</td>\n",
       "      <td>2000</td>\n",
       "      <td>PG</td>\n",
       "      <td>89 min</td>\n",
       "      <td>Children &amp; Family Movies, Comedies</td>\n",
       "    </tr>\n",
       "    <tr>\n",
       "      <th>8462</th>\n",
       "      <td>Movie</td>\n",
       "      <td>The Power of Grayskull: The Definitive History...</td>\n",
       "      <td>Randall Lobb, Robert McCallum</td>\n",
       "      <td>NaN</td>\n",
       "      <td>Canada, United States</td>\n",
       "      <td>August 24, 2018</td>\n",
       "      <td>2017</td>\n",
       "      <td>TV-14</td>\n",
       "      <td>96 min</td>\n",
       "      <td>Documentaries</td>\n",
       "    </tr>\n",
       "    <tr>\n",
       "      <th>3478</th>\n",
       "      <td>Movie</td>\n",
       "      <td>Mo Gilligan: Momentum</td>\n",
       "      <td>Chris Howe</td>\n",
       "      <td>Mo Gilligan</td>\n",
       "      <td>United Kingdom</td>\n",
       "      <td>September 30, 2019</td>\n",
       "      <td>2019</td>\n",
       "      <td>TV-MA</td>\n",
       "      <td>64 min</td>\n",
       "      <td>Stand-Up Comedy</td>\n",
       "    </tr>\n",
       "    <tr>\n",
       "      <th>861</th>\n",
       "      <td>Movie</td>\n",
       "      <td>Little Singham Future mein Satakli</td>\n",
       "      <td>Prakash Satam</td>\n",
       "      <td>Anamaya Verma, Ganesh Divekar, Jigna Bharadhwa...</td>\n",
       "      <td>NaN</td>\n",
       "      <td>May 20, 2021</td>\n",
       "      <td>2021</td>\n",
       "      <td>TV-Y7</td>\n",
       "      <td>47 min</td>\n",
       "      <td>Children &amp; Family Movies, Comedies</td>\n",
       "    </tr>\n",
       "    <tr>\n",
       "      <th>3332</th>\n",
       "      <td>Movie</td>\n",
       "      <td>Christmas Survival</td>\n",
       "      <td>James Dearden</td>\n",
       "      <td>Julian Ovenden, Gemma Whelan, Joely Richardson...</td>\n",
       "      <td>United Kingdom</td>\n",
       "      <td>November 1, 2019</td>\n",
       "      <td>2018</td>\n",
       "      <td>TV-MA</td>\n",
       "      <td>101 min</td>\n",
       "      <td>Comedies</td>\n",
       "    </tr>\n",
       "  </tbody>\n",
       "</table>\n",
       "</div>"
      ],
      "text/plain": [
       "       type                                              title  \\\n",
       "593   Movie                                           Snow Day   \n",
       "8462  Movie  The Power of Grayskull: The Definitive History...   \n",
       "3478  Movie                              Mo Gilligan: Momentum   \n",
       "861   Movie                 Little Singham Future mein Satakli   \n",
       "3332  Movie                                 Christmas Survival   \n",
       "\n",
       "                           director  \\\n",
       "593                      Chris Koch   \n",
       "8462  Randall Lobb, Robert McCallum   \n",
       "3478                     Chris Howe   \n",
       "861                   Prakash Satam   \n",
       "3332                  James Dearden   \n",
       "\n",
       "                                                   cast  \\\n",
       "593   Chris Elliott, Mark Webber, Jean Smart, Schuyl...   \n",
       "8462                                                NaN   \n",
       "3478                                        Mo Gilligan   \n",
       "861   Anamaya Verma, Ganesh Divekar, Jigna Bharadhwa...   \n",
       "3332  Julian Ovenden, Gemma Whelan, Joely Richardson...   \n",
       "\n",
       "                    country          date_added  release_year rating duration  \\\n",
       "593           United States        July 1, 2021          2000     PG   89 min   \n",
       "8462  Canada, United States     August 24, 2018          2017  TV-14   96 min   \n",
       "3478         United Kingdom  September 30, 2019          2019  TV-MA   64 min   \n",
       "861                     NaN        May 20, 2021          2021  TV-Y7   47 min   \n",
       "3332         United Kingdom    November 1, 2019          2018  TV-MA  101 min   \n",
       "\n",
       "                               listed_in  \n",
       "593   Children & Family Movies, Comedies  \n",
       "8462                       Documentaries  \n",
       "3478                     Stand-Up Comedy  \n",
       "861   Children & Family Movies, Comedies  \n",
       "3332                            Comedies  "
      ]
     },
     "execution_count": 5,
     "metadata": {},
     "output_type": "execute_result"
    }
   ],
   "source": [
    "df.sample(5)"
   ]
  },
  {
   "cell_type": "code",
   "execution_count": 6,
   "id": "de52d144",
   "metadata": {},
   "outputs": [
    {
     "data": {
      "text/plain": [
       "(8807, 10)"
      ]
     },
     "execution_count": 6,
     "metadata": {},
     "output_type": "execute_result"
    }
   ],
   "source": [
    "# To know the no.of rows and no.of columns\n",
    "df.shape"
   ]
  },
  {
   "cell_type": "code",
   "execution_count": 7,
   "id": "c7242ae1",
   "metadata": {},
   "outputs": [
    {
     "data": {
      "text/plain": [
       "88070"
      ]
     },
     "execution_count": 7,
     "metadata": {},
     "output_type": "execute_result"
    }
   ],
   "source": [
    "# To know the no.of cells present in the  \n",
    "df.size"
   ]
  },
  {
   "cell_type": "code",
   "execution_count": 8,
   "id": "181ddd8a",
   "metadata": {},
   "outputs": [
    {
     "data": {
      "text/plain": [
       "RangeIndex(start=0, stop=8807, step=1)"
      ]
     },
     "execution_count": 8,
     "metadata": {},
     "output_type": "execute_result"
    }
   ],
   "source": [
    "# To know the index values of the data where it starts and where it ends\n",
    "df.index"
   ]
  },
  {
   "cell_type": "code",
   "execution_count": 9,
   "id": "5cd37b0d",
   "metadata": {},
   "outputs": [
    {
     "data": {
      "text/plain": [
       "Index(['type', 'title', 'director', 'cast', 'country', 'date_added',\n",
       "       'release_year', 'rating', 'duration', 'listed_in'],\n",
       "      dtype='object')"
      ]
     },
     "execution_count": 9,
     "metadata": {},
     "output_type": "execute_result"
    }
   ],
   "source": [
    "# To know the names of the columns present in the dataset\n",
    "df.columns"
   ]
  },
  {
   "cell_type": "markdown",
   "id": "65ce5c1c",
   "metadata": {},
   "source": [
    "# STEP_2  :-  Data Cleaning"
   ]
  },
  {
   "cell_type": "code",
   "execution_count": 10,
   "id": "a85a9591",
   "metadata": {},
   "outputs": [
    {
     "name": "stdout",
     "output_type": "stream",
     "text": [
      "<class 'pandas.core.frame.DataFrame'>\n",
      "RangeIndex: 8807 entries, 0 to 8806\n",
      "Data columns (total 10 columns):\n",
      " #   Column        Non-Null Count  Dtype \n",
      "---  ------        --------------  ----- \n",
      " 0   type          8807 non-null   object\n",
      " 1   title         8807 non-null   object\n",
      " 2   director      6173 non-null   object\n",
      " 3   cast          7982 non-null   object\n",
      " 4   country       7976 non-null   object\n",
      " 5   date_added    8797 non-null   object\n",
      " 6   release_year  8807 non-null   int64 \n",
      " 7   rating        8803 non-null   object\n",
      " 8   duration      8804 non-null   object\n",
      " 9   listed_in     8807 non-null   object\n",
      "dtypes: int64(1), object(9)\n",
      "memory usage: 688.2+ KB\n"
     ]
    }
   ],
   "source": [
    "# if you do data analysis on the non clean data then your analysis might go wrong\n",
    "# Maintaining the data quality is the very important metrics\n",
    "\n",
    "df.info() # it tells us how many non-null values are there"
   ]
  },
  {
   "cell_type": "code",
   "execution_count": 11,
   "id": "590732ce",
   "metadata": {},
   "outputs": [
    {
     "data": {
      "text/plain": [
       "type               0\n",
       "title              0\n",
       "director        2634\n",
       "cast             825\n",
       "country          831\n",
       "date_added        10\n",
       "release_year       0\n",
       "rating             4\n",
       "duration           3\n",
       "listed_in          0\n",
       "dtype: int64"
      ]
     },
     "execution_count": 11,
     "metadata": {},
     "output_type": "execute_result"
    }
   ],
   "source": [
    "# To know how many null values are there in each column\n",
    "df.isna().sum()"
   ]
  },
  {
   "cell_type": "code",
   "execution_count": 12,
   "id": "64efb355",
   "metadata": {},
   "outputs": [
    {
     "data": {
      "text/plain": [
       "United States                             2818\n",
       "India                                      972\n",
       "United Kingdom                             419\n",
       "Japan                                      245\n",
       "South Korea                                199\n",
       "                                          ... \n",
       "Romania, Bulgaria, Hungary                   1\n",
       "Uruguay, Guatemala                           1\n",
       "France, Senegal, Belgium                     1\n",
       "Mexico, United States, Spain, Colombia       1\n",
       "United Arab Emirates, Jordan                 1\n",
       "Name: country, Length: 748, dtype: int64"
      ]
     },
     "execution_count": 12,
     "metadata": {},
     "output_type": "execute_result"
    }
   ],
   "source": [
    "# To know most occuring value in the data set in a particular column\n",
    "# it is helpful to replace the null values\n",
    "df[\"country\"].value_counts()"
   ]
  },
  {
   "cell_type": "code",
   "execution_count": 13,
   "id": "73dc9b10",
   "metadata": {},
   "outputs": [
    {
     "data": {
      "text/plain": [
       "United States     2818\n",
       "India              972\n",
       "United Kingdom     419\n",
       "Name: country, dtype: int64"
      ]
     },
     "execution_count": 13,
     "metadata": {},
     "output_type": "execute_result"
    }
   ],
   "source": [
    "df[\"country\"].value_counts().head(3)"
   ]
  },
  {
   "cell_type": "code",
   "execution_count": 14,
   "id": "a619777e",
   "metadata": {},
   "outputs": [],
   "source": [
    "mode_country = df[\"country\"].mode()[0]\n",
    "mode_country\n",
    "df[\"country\"]=df[\"country\"].fillna(mode_country)"
   ]
  },
  {
   "cell_type": "code",
   "execution_count": 15,
   "id": "843667d2",
   "metadata": {},
   "outputs": [
    {
     "data": {
      "text/plain": [
       "0"
      ]
     },
     "execution_count": 15,
     "metadata": {},
     "output_type": "execute_result"
    }
   ],
   "source": [
    "df[\"country\"].isna().sum() # Always check weather the column has replaced the null values or not"
   ]
  },
  {
   "cell_type": "code",
   "execution_count": 16,
   "id": "f59c5f7f",
   "metadata": {},
   "outputs": [
    {
     "data": {
      "text/plain": [
       "January 1, 2020      109\n",
       "November 1, 2019      89\n",
       "March 1, 2018         75\n",
       "December 31, 2019     74\n",
       "October 1, 2018       71\n",
       "                    ... \n",
       "December 4, 2016       1\n",
       "November 21, 2016      1\n",
       "November 19, 2016      1\n",
       "November 17, 2016      1\n",
       "January 11, 2020       1\n",
       "Name: date_added, Length: 1767, dtype: int64"
      ]
     },
     "execution_count": 16,
     "metadata": {},
     "output_type": "execute_result"
    }
   ],
   "source": [
    "df[\"date_added\"].value_counts()"
   ]
  },
  {
   "cell_type": "code",
   "execution_count": 17,
   "id": "5480ec32",
   "metadata": {},
   "outputs": [
    {
     "data": {
      "text/plain": [
       "January 1, 2020      109\n",
       "November 1, 2019      89\n",
       "March 1, 2018         75\n",
       "December 31, 2019     74\n",
       "October 1, 2018       71\n",
       "Name: date_added, dtype: int64"
      ]
     },
     "execution_count": 17,
     "metadata": {},
     "output_type": "execute_result"
    }
   ],
   "source": [
    "df[\"date_added\"].value_counts().head(5)"
   ]
  },
  {
   "cell_type": "code",
   "execution_count": 18,
   "id": "e74dd316",
   "metadata": {},
   "outputs": [
    {
     "data": {
      "text/plain": [
       "0"
      ]
     },
     "execution_count": 18,
     "metadata": {},
     "output_type": "execute_result"
    }
   ],
   "source": [
    "mode_date = df[\"date_added\"].mode()[0]\n",
    "df[\"date_added\"] = df[\"date_added\"].fillna(mode_date)\n",
    "df[\"date_added\"].isna().sum() # Always check weather the column has replaced the null values or not"
   ]
  },
  {
   "cell_type": "code",
   "execution_count": 19,
   "id": "2e807dce",
   "metadata": {},
   "outputs": [
    {
     "data": {
      "text/plain": [
       "type               0\n",
       "title              0\n",
       "director        2634\n",
       "cast             825\n",
       "country            0\n",
       "date_added         0\n",
       "release_year       0\n",
       "rating             4\n",
       "duration           3\n",
       "listed_in          0\n",
       "dtype: int64"
      ]
     },
     "execution_count": 19,
     "metadata": {},
     "output_type": "execute_result"
    }
   ],
   "source": [
    "df.isna().sum()"
   ]
  },
  {
   "cell_type": "code",
   "execution_count": 20,
   "id": "34df537e",
   "metadata": {},
   "outputs": [
    {
     "data": {
      "text/plain": [
       "0"
      ]
     },
     "execution_count": 20,
     "metadata": {},
     "output_type": "execute_result"
    }
   ],
   "source": [
    "mode_rating = df[\"rating\"].mode()[0]\n",
    "df[\"rating\"] = df[\"rating\"].fillna(mode_rating)\n",
    "df[\"rating\"].isna().sum() # Always check weather the column has replaced the null values or not"
   ]
  },
  {
   "cell_type": "code",
   "execution_count": 21,
   "id": "e6cc8ba7",
   "metadata": {},
   "outputs": [
    {
     "data": {
      "text/plain": [
       "0"
      ]
     },
     "execution_count": 21,
     "metadata": {},
     "output_type": "execute_result"
    }
   ],
   "source": [
    "mode_duration = df[\"duration\"].mode()[0]\n",
    "df[\"duration\"] = df[\"duration\"].fillna(mode_duration)\n",
    "df[\"duration\"].isna().sum() # Always check weather the column has replaced the null values or not"
   ]
  },
  {
   "cell_type": "code",
   "execution_count": 22,
   "id": "d5ec4f29",
   "metadata": {},
   "outputs": [
    {
     "data": {
      "text/plain": [
       "type               0\n",
       "title              0\n",
       "director        2634\n",
       "cast             825\n",
       "country            0\n",
       "date_added         0\n",
       "release_year       0\n",
       "rating             0\n",
       "duration           0\n",
       "listed_in          0\n",
       "dtype: int64"
      ]
     },
     "execution_count": 22,
     "metadata": {},
     "output_type": "execute_result"
    }
   ],
   "source": [
    "df.isna().sum()"
   ]
  },
  {
   "cell_type": "code",
   "execution_count": 23,
   "id": "0af858a3",
   "metadata": {},
   "outputs": [
    {
     "data": {
      "text/plain": [
       "0"
      ]
     },
     "execution_count": 23,
     "metadata": {},
     "output_type": "execute_result"
    }
   ],
   "source": [
    "# here we left the two columns director and cast because we want replace them with any string\n",
    "df[\"director\"]=df[\"director\"].fillna(\"Not Menctioned\")\n",
    "df[\"director\"].isna().sum()\n",
    "df[\"cast\"]=df[\"cast\"].fillna(\"Not Menctioned\")\n",
    "df[\"cast\"].isna().sum()"
   ]
  },
  {
   "cell_type": "code",
   "execution_count": 24,
   "id": "5028b5d3",
   "metadata": {},
   "outputs": [
    {
     "data": {
      "text/plain": [
       "type            0\n",
       "title           0\n",
       "director        0\n",
       "cast            0\n",
       "country         0\n",
       "date_added      0\n",
       "release_year    0\n",
       "rating          0\n",
       "duration        0\n",
       "listed_in       0\n",
       "dtype: int64"
      ]
     },
     "execution_count": 24,
     "metadata": {},
     "output_type": "execute_result"
    }
   ],
   "source": [
    "df.isna().sum() # We are done with replacing all null values \n",
    "# null value eradication of the data cleaning part is done"
   ]
  },
  {
   "cell_type": "code",
   "execution_count": 25,
   "id": "de1a92d9",
   "metadata": {},
   "outputs": [
    {
     "data": {
      "text/plain": [
       "array(['PG-13', 'TV-MA', 'PG', 'TV-14', 'TV-PG', 'TV-Y', 'TV-Y7', 'R',\n",
       "       'TV-G', 'G', 'NC-17', '74 min', '84 min', '66 min', 'NR',\n",
       "       'TV-Y7-FV', 'UR'], dtype=object)"
      ]
     },
     "execution_count": 25,
     "metadata": {},
     "output_type": "execute_result"
    }
   ],
   "source": [
    "df[\"rating\"].unique()"
   ]
  },
  {
   "cell_type": "code",
   "execution_count": 26,
   "id": "a83a6e09",
   "metadata": {},
   "outputs": [],
   "source": [
    "df = df[~df[\"rating\"].str.contains(\"min\")] # removes the values in coumn \"rating\" which contain \"min\" string key word"
   ]
  },
  {
   "cell_type": "code",
   "execution_count": 27,
   "id": "4ea18fb9",
   "metadata": {},
   "outputs": [
    {
     "data": {
      "text/plain": [
       "array(['PG-13', 'TV-MA', 'PG', 'TV-14', 'TV-PG', 'TV-Y', 'TV-Y7', 'R',\n",
       "       'TV-G', 'G', 'NC-17', 'NR', 'TV-Y7-FV', 'UR'], dtype=object)"
      ]
     },
     "execution_count": 27,
     "metadata": {},
     "output_type": "execute_result"
    }
   ],
   "source": [
    "df[\"rating\"].unique()"
   ]
  },
  {
   "cell_type": "code",
   "execution_count": 28,
   "id": "e5e480c8",
   "metadata": {},
   "outputs": [
    {
     "data": {
      "text/plain": [
       "array(['September 25, 2021', 'September 24, 2021', 'September 23, 2021',\n",
       "       ..., 'December 6, 2018', 'March 9, 2016', 'January 11, 2020'],\n",
       "      dtype=object)"
      ]
     },
     "execution_count": 28,
     "metadata": {},
     "output_type": "execute_result"
    }
   ],
   "source": [
    "df[\"date_added\"].unique()"
   ]
  },
  {
   "cell_type": "code",
   "execution_count": 29,
   "id": "8e4198dd",
   "metadata": {},
   "outputs": [],
   "source": [
    "df[\"date_added\"] = df[\"date_added\"].str.replace(\",\",\"\") # replace comma with empty space"
   ]
  },
  {
   "cell_type": "code",
   "execution_count": 30,
   "id": "cdcb2983",
   "metadata": {},
   "outputs": [
    {
     "data": {
      "text/plain": [
       "array(['September 25 2021', 'September 24 2021', 'September 23 2021', ...,\n",
       "       'December 6 2018', 'March 9 2016', 'January 11 2020'], dtype=object)"
      ]
     },
     "execution_count": 30,
     "metadata": {},
     "output_type": "execute_result"
    }
   ],
   "source": [
    "df[\"date_added\"].unique()"
   ]
  },
  {
   "cell_type": "code",
   "execution_count": 31,
   "id": "bf3a476d",
   "metadata": {},
   "outputs": [],
   "source": [
    "df[\"date_added\"] = pd.to_datetime(df[\"date_added\"])"
   ]
  },
  {
   "cell_type": "code",
   "execution_count": 32,
   "id": "af12e6ff",
   "metadata": {},
   "outputs": [
    {
     "data": {
      "text/plain": [
       "array(['2021-09-25T00:00:00.000000000', '2021-09-24T00:00:00.000000000',\n",
       "       '2021-09-23T00:00:00.000000000', ...,\n",
       "       '2018-12-06T00:00:00.000000000', '2016-03-09T00:00:00.000000000',\n",
       "       '2020-01-11T00:00:00.000000000'], dtype='datetime64[ns]')"
      ]
     },
     "execution_count": 32,
     "metadata": {},
     "output_type": "execute_result"
    }
   ],
   "source": [
    "df[\"date_added\"].unique()"
   ]
  },
  {
   "cell_type": "code",
   "execution_count": 33,
   "id": "04b8190a",
   "metadata": {},
   "outputs": [],
   "source": [
    "# Create new columns year , Month , Date from date_added\n",
    "df[\"year\"] = df[\"date_added\"].dt.year\n",
    "df[\"month\"] = df[\"date_added\"].dt.month\n",
    "df[\"day\"] = df[\"date_added\"].dt.day"
   ]
  },
  {
   "cell_type": "code",
   "execution_count": 34,
   "id": "8b2acf4b",
   "metadata": {},
   "outputs": [
    {
     "data": {
      "text/html": [
       "<div>\n",
       "<style scoped>\n",
       "    .dataframe tbody tr th:only-of-type {\n",
       "        vertical-align: middle;\n",
       "    }\n",
       "\n",
       "    .dataframe tbody tr th {\n",
       "        vertical-align: top;\n",
       "    }\n",
       "\n",
       "    .dataframe thead th {\n",
       "        text-align: right;\n",
       "    }\n",
       "</style>\n",
       "<table border=\"1\" class=\"dataframe\">\n",
       "  <thead>\n",
       "    <tr style=\"text-align: right;\">\n",
       "      <th></th>\n",
       "      <th>type</th>\n",
       "      <th>title</th>\n",
       "      <th>director</th>\n",
       "      <th>cast</th>\n",
       "      <th>country</th>\n",
       "      <th>date_added</th>\n",
       "      <th>release_year</th>\n",
       "      <th>rating</th>\n",
       "      <th>duration</th>\n",
       "      <th>listed_in</th>\n",
       "      <th>year</th>\n",
       "      <th>month</th>\n",
       "      <th>day</th>\n",
       "    </tr>\n",
       "  </thead>\n",
       "  <tbody>\n",
       "    <tr>\n",
       "      <th>2065</th>\n",
       "      <td>Movie</td>\n",
       "      <td>Children of the Sea</td>\n",
       "      <td>Ayumu Watanabe</td>\n",
       "      <td>Mana Ashida, Hiiro Ishibashi, Seishu Uragami, ...</td>\n",
       "      <td>Japan, United States</td>\n",
       "      <td>2020-09-01</td>\n",
       "      <td>2019</td>\n",
       "      <td>TV-PG</td>\n",
       "      <td>112 min</td>\n",
       "      <td>Anime Features, International Movies</td>\n",
       "      <td>2020</td>\n",
       "      <td>9</td>\n",
       "      <td>1</td>\n",
       "    </tr>\n",
       "    <tr>\n",
       "      <th>7782</th>\n",
       "      <td>TV Show</td>\n",
       "      <td>Power Rangers Time Force</td>\n",
       "      <td>Not Menctioned</td>\n",
       "      <td>Jason Faunt, Erin Cahill, Kevin Kleinberg, Deb...</td>\n",
       "      <td>United States</td>\n",
       "      <td>2016-01-01</td>\n",
       "      <td>2001</td>\n",
       "      <td>TV-Y7</td>\n",
       "      <td>1 Season</td>\n",
       "      <td>Kids' TV</td>\n",
       "      <td>2016</td>\n",
       "      <td>1</td>\n",
       "      <td>1</td>\n",
       "    </tr>\n",
       "    <tr>\n",
       "      <th>5905</th>\n",
       "      <td>Movie</td>\n",
       "      <td>Ralphie May: Imperfectly Yours</td>\n",
       "      <td>Anthony Pierce</td>\n",
       "      <td>Ralphie May</td>\n",
       "      <td>United States</td>\n",
       "      <td>2015-06-29</td>\n",
       "      <td>2015</td>\n",
       "      <td>TV-MA</td>\n",
       "      <td>69 min</td>\n",
       "      <td>Stand-Up Comedy</td>\n",
       "      <td>2015</td>\n",
       "      <td>6</td>\n",
       "      <td>29</td>\n",
       "    </tr>\n",
       "    <tr>\n",
       "      <th>2114</th>\n",
       "      <td>Movie</td>\n",
       "      <td>Little Singham: Kaal Ka Badla</td>\n",
       "      <td>Prakash Satam</td>\n",
       "      <td>Anamaya Verma, Arushi Talwar, Ganesh Divekar, ...</td>\n",
       "      <td>United States</td>\n",
       "      <td>2020-08-19</td>\n",
       "      <td>2020</td>\n",
       "      <td>TV-Y7</td>\n",
       "      <td>70 min</td>\n",
       "      <td>Children &amp; Family Movies, Comedies</td>\n",
       "      <td>2020</td>\n",
       "      <td>8</td>\n",
       "      <td>19</td>\n",
       "    </tr>\n",
       "    <tr>\n",
       "      <th>4252</th>\n",
       "      <td>Movie</td>\n",
       "      <td>A Twelve Year Night</td>\n",
       "      <td>Álvaro Brechner</td>\n",
       "      <td>Antonio de la Torre, Chino Darín, Alfonso Tort...</td>\n",
       "      <td>Uruguay, Argentina, Spain</td>\n",
       "      <td>2018-12-28</td>\n",
       "      <td>2018</td>\n",
       "      <td>TV-MA</td>\n",
       "      <td>122 min</td>\n",
       "      <td>Dramas, International Movies</td>\n",
       "      <td>2018</td>\n",
       "      <td>12</td>\n",
       "      <td>28</td>\n",
       "    </tr>\n",
       "  </tbody>\n",
       "</table>\n",
       "</div>"
      ],
      "text/plain": [
       "         type                           title         director  \\\n",
       "2065    Movie             Children of the Sea   Ayumu Watanabe   \n",
       "7782  TV Show        Power Rangers Time Force   Not Menctioned   \n",
       "5905    Movie  Ralphie May: Imperfectly Yours   Anthony Pierce   \n",
       "2114    Movie   Little Singham: Kaal Ka Badla    Prakash Satam   \n",
       "4252    Movie             A Twelve Year Night  Álvaro Brechner   \n",
       "\n",
       "                                                   cast  \\\n",
       "2065  Mana Ashida, Hiiro Ishibashi, Seishu Uragami, ...   \n",
       "7782  Jason Faunt, Erin Cahill, Kevin Kleinberg, Deb...   \n",
       "5905                                        Ralphie May   \n",
       "2114  Anamaya Verma, Arushi Talwar, Ganesh Divekar, ...   \n",
       "4252  Antonio de la Torre, Chino Darín, Alfonso Tort...   \n",
       "\n",
       "                        country date_added  release_year rating  duration  \\\n",
       "2065       Japan, United States 2020-09-01          2019  TV-PG   112 min   \n",
       "7782              United States 2016-01-01          2001  TV-Y7  1 Season   \n",
       "5905              United States 2015-06-29          2015  TV-MA    69 min   \n",
       "2114              United States 2020-08-19          2020  TV-Y7    70 min   \n",
       "4252  Uruguay, Argentina, Spain 2018-12-28          2018  TV-MA   122 min   \n",
       "\n",
       "                                 listed_in  year  month  day  \n",
       "2065  Anime Features, International Movies  2020      9    1  \n",
       "7782                              Kids' TV  2016      1    1  \n",
       "5905                       Stand-Up Comedy  2015      6   29  \n",
       "2114    Children & Family Movies, Comedies  2020      8   19  \n",
       "4252          Dramas, International Movies  2018     12   28  "
      ]
     },
     "execution_count": 34,
     "metadata": {},
     "output_type": "execute_result"
    }
   ],
   "source": [
    "df.sample(5)"
   ]
  },
  {
   "cell_type": "code",
   "execution_count": 35,
   "id": "edd2bec5",
   "metadata": {},
   "outputs": [],
   "source": [
    "df[\"genre\"] = df[\"listed_in\"].str.split(\",\").str[0] # extacts the genre from the existing list"
   ]
  },
  {
   "cell_type": "code",
   "execution_count": 36,
   "id": "f26eae6a",
   "metadata": {},
   "outputs": [
    {
     "data": {
      "text/plain": [
       "Dramas                          1600\n",
       "Comedies                        1210\n",
       "Action & Adventure               859\n",
       "Documentaries                    829\n",
       "International TV Shows           774\n",
       "Children & Family Movies         605\n",
       "Crime TV Shows                   399\n",
       "Kids' TV                         388\n",
       "Stand-Up Comedy                  334\n",
       "Horror Movies                    275\n",
       "British TV Shows                 253\n",
       "Docuseries                       221\n",
       "Anime Series                     176\n",
       "International Movies             128\n",
       "TV Comedies                      120\n",
       "Reality TV                       120\n",
       "Classic Movies                    80\n",
       "TV Dramas                         67\n",
       "Thrillers                         65\n",
       "Movies                            54\n",
       "TV Action & Adventure             40\n",
       "Stand-Up Comedy & Talk Shows      34\n",
       "Romantic TV Shows                 32\n",
       "Classic & Cult TV                 22\n",
       "Anime Features                    21\n",
       "Independent Movies                20\n",
       "Music & Musicals                  18\n",
       "TV Shows                          16\n",
       "Sci-Fi & Fantasy                  13\n",
       "Cult Movies                       12\n",
       "TV Horror                         11\n",
       "Romantic Movies                    3\n",
       "Spanish-Language TV Shows          2\n",
       "LGBTQ Movies                       1\n",
       "TV Sci-Fi & Fantasy                1\n",
       "Sports Movies                      1\n",
       "Name: genre, dtype: int64"
      ]
     },
     "execution_count": 36,
     "metadata": {},
     "output_type": "execute_result"
    }
   ],
   "source": [
    "df[\"genre\"].value_counts()"
   ]
  },
  {
   "cell_type": "code",
   "execution_count": 37,
   "id": "8717355a",
   "metadata": {},
   "outputs": [
    {
     "data": {
      "text/html": [
       "<div>\n",
       "<style scoped>\n",
       "    .dataframe tbody tr th:only-of-type {\n",
       "        vertical-align: middle;\n",
       "    }\n",
       "\n",
       "    .dataframe tbody tr th {\n",
       "        vertical-align: top;\n",
       "    }\n",
       "\n",
       "    .dataframe thead th {\n",
       "        text-align: right;\n",
       "    }\n",
       "</style>\n",
       "<table border=\"1\" class=\"dataframe\">\n",
       "  <thead>\n",
       "    <tr style=\"text-align: right;\">\n",
       "      <th></th>\n",
       "      <th>type</th>\n",
       "      <th>title</th>\n",
       "      <th>director</th>\n",
       "      <th>cast</th>\n",
       "      <th>country</th>\n",
       "      <th>date_added</th>\n",
       "      <th>release_year</th>\n",
       "      <th>rating</th>\n",
       "      <th>duration</th>\n",
       "      <th>listed_in</th>\n",
       "      <th>year</th>\n",
       "      <th>month</th>\n",
       "      <th>day</th>\n",
       "      <th>genre</th>\n",
       "    </tr>\n",
       "  </thead>\n",
       "  <tbody>\n",
       "    <tr>\n",
       "      <th>6119</th>\n",
       "      <td>Movie</td>\n",
       "      <td>All Light Will End</td>\n",
       "      <td>Chris Blake</td>\n",
       "      <td>Ashley Pereira, Alexandra Harris, Ted Welch, S...</td>\n",
       "      <td>United States</td>\n",
       "      <td>2019-02-02</td>\n",
       "      <td>2018</td>\n",
       "      <td>TV-MA</td>\n",
       "      <td>84 min</td>\n",
       "      <td>Horror Movies, Thrillers</td>\n",
       "      <td>2019</td>\n",
       "      <td>2</td>\n",
       "      <td>2</td>\n",
       "      <td>Horror Movies</td>\n",
       "    </tr>\n",
       "    <tr>\n",
       "      <th>8727</th>\n",
       "      <td>Movie</td>\n",
       "      <td>When Hari Got Married</td>\n",
       "      <td>Ritu Sarin, Tenzing Sonam</td>\n",
       "      <td>Not Menctioned</td>\n",
       "      <td>United Kingdom, India, United States</td>\n",
       "      <td>2016-12-25</td>\n",
       "      <td>2013</td>\n",
       "      <td>NR</td>\n",
       "      <td>75 min</td>\n",
       "      <td>Documentaries, International Movies</td>\n",
       "      <td>2016</td>\n",
       "      <td>12</td>\n",
       "      <td>25</td>\n",
       "      <td>Documentaries</td>\n",
       "    </tr>\n",
       "    <tr>\n",
       "      <th>742</th>\n",
       "      <td>Movie</td>\n",
       "      <td>Camellia Sisters</td>\n",
       "      <td>Bao Nhan, Namcito</td>\n",
       "      <td>Le Khanh, Kaity Nguyen, Hong Van, Khuong Le, H...</td>\n",
       "      <td>Vietnam</td>\n",
       "      <td>2021-06-10</td>\n",
       "      <td>2021</td>\n",
       "      <td>TV-MA</td>\n",
       "      <td>117 min</td>\n",
       "      <td>Dramas, International Movies</td>\n",
       "      <td>2021</td>\n",
       "      <td>6</td>\n",
       "      <td>10</td>\n",
       "      <td>Dramas</td>\n",
       "    </tr>\n",
       "    <tr>\n",
       "      <th>1828</th>\n",
       "      <td>TV Show</td>\n",
       "      <td>Unsolved Mysteries</td>\n",
       "      <td>Not Menctioned</td>\n",
       "      <td>Not Menctioned</td>\n",
       "      <td>United States</td>\n",
       "      <td>2020-10-19</td>\n",
       "      <td>2020</td>\n",
       "      <td>TV-MA</td>\n",
       "      <td>2 Seasons</td>\n",
       "      <td>Crime TV Shows, Docuseries</td>\n",
       "      <td>2020</td>\n",
       "      <td>10</td>\n",
       "      <td>19</td>\n",
       "      <td>Crime TV Shows</td>\n",
       "    </tr>\n",
       "    <tr>\n",
       "      <th>7475</th>\n",
       "      <td>Movie</td>\n",
       "      <td>Moh Maya Money</td>\n",
       "      <td>Munish Bhardwaj</td>\n",
       "      <td>Ranvir Shorey, Neha Dhupia, Devendra Chowhan, ...</td>\n",
       "      <td>India</td>\n",
       "      <td>2017-05-01</td>\n",
       "      <td>2016</td>\n",
       "      <td>TV-MA</td>\n",
       "      <td>109 min</td>\n",
       "      <td>Dramas, Independent Movies, International Movies</td>\n",
       "      <td>2017</td>\n",
       "      <td>5</td>\n",
       "      <td>1</td>\n",
       "      <td>Dramas</td>\n",
       "    </tr>\n",
       "  </tbody>\n",
       "</table>\n",
       "</div>"
      ],
      "text/plain": [
       "         type                  title                   director  \\\n",
       "6119    Movie     All Light Will End                Chris Blake   \n",
       "8727    Movie  When Hari Got Married  Ritu Sarin, Tenzing Sonam   \n",
       "742     Movie       Camellia Sisters          Bao Nhan, Namcito   \n",
       "1828  TV Show     Unsolved Mysteries             Not Menctioned   \n",
       "7475    Movie         Moh Maya Money            Munish Bhardwaj   \n",
       "\n",
       "                                                   cast  \\\n",
       "6119  Ashley Pereira, Alexandra Harris, Ted Welch, S...   \n",
       "8727                                     Not Menctioned   \n",
       "742   Le Khanh, Kaity Nguyen, Hong Van, Khuong Le, H...   \n",
       "1828                                     Not Menctioned   \n",
       "7475  Ranvir Shorey, Neha Dhupia, Devendra Chowhan, ...   \n",
       "\n",
       "                                   country date_added  release_year rating  \\\n",
       "6119                         United States 2019-02-02          2018  TV-MA   \n",
       "8727  United Kingdom, India, United States 2016-12-25          2013     NR   \n",
       "742                                Vietnam 2021-06-10          2021  TV-MA   \n",
       "1828                         United States 2020-10-19          2020  TV-MA   \n",
       "7475                                 India 2017-05-01          2016  TV-MA   \n",
       "\n",
       "       duration                                         listed_in  year  \\\n",
       "6119     84 min                          Horror Movies, Thrillers  2019   \n",
       "8727     75 min               Documentaries, International Movies  2016   \n",
       "742     117 min                      Dramas, International Movies  2021   \n",
       "1828  2 Seasons                        Crime TV Shows, Docuseries  2020   \n",
       "7475    109 min  Dramas, Independent Movies, International Movies  2017   \n",
       "\n",
       "      month  day           genre  \n",
       "6119      2    2   Horror Movies  \n",
       "8727     12   25   Documentaries  \n",
       "742       6   10          Dramas  \n",
       "1828     10   19  Crime TV Shows  \n",
       "7475      5    1          Dramas  "
      ]
     },
     "execution_count": 37,
     "metadata": {},
     "output_type": "execute_result"
    }
   ],
   "source": [
    "# similarly in column cast lead actors names are sufficient \n",
    "df.sample(5)"
   ]
  },
  {
   "cell_type": "code",
   "execution_count": 38,
   "id": "f31a98e1",
   "metadata": {},
   "outputs": [],
   "source": [
    "df= df[df[\"cast\"]!=\"Not Mentioned\"]"
   ]
  },
  {
   "cell_type": "code",
   "execution_count": 39,
   "id": "2c35b563",
   "metadata": {},
   "outputs": [],
   "source": [
    "df[\"lead_actor\"] = df[\"cast\"].str.split(\",\").str[0]"
   ]
  },
  {
   "cell_type": "code",
   "execution_count": 40,
   "id": "604ee821",
   "metadata": {},
   "outputs": [
    {
     "data": {
      "text/plain": [
       "Not Menctioned      825\n",
       "Shah Rukh Khan       26\n",
       "Akshay Kumar         23\n",
       "Adam Sandler         20\n",
       "Amitabh Bachchan     20\n",
       "Name: lead_actor, dtype: int64"
      ]
     },
     "execution_count": 40,
     "metadata": {},
     "output_type": "execute_result"
    }
   ],
   "source": [
    "df[\"lead_actor\"].value_counts().head(5)"
   ]
  },
  {
   "cell_type": "code",
   "execution_count": 41,
   "id": "54f745ad",
   "metadata": {},
   "outputs": [
    {
     "data": {
      "text/html": [
       "<div>\n",
       "<style scoped>\n",
       "    .dataframe tbody tr th:only-of-type {\n",
       "        vertical-align: middle;\n",
       "    }\n",
       "\n",
       "    .dataframe tbody tr th {\n",
       "        vertical-align: top;\n",
       "    }\n",
       "\n",
       "    .dataframe thead th {\n",
       "        text-align: right;\n",
       "    }\n",
       "</style>\n",
       "<table border=\"1\" class=\"dataframe\">\n",
       "  <thead>\n",
       "    <tr style=\"text-align: right;\">\n",
       "      <th></th>\n",
       "      <th>type</th>\n",
       "      <th>title</th>\n",
       "      <th>director</th>\n",
       "      <th>cast</th>\n",
       "      <th>country</th>\n",
       "      <th>date_added</th>\n",
       "      <th>release_year</th>\n",
       "      <th>rating</th>\n",
       "      <th>duration</th>\n",
       "      <th>listed_in</th>\n",
       "      <th>year</th>\n",
       "      <th>month</th>\n",
       "      <th>day</th>\n",
       "      <th>genre</th>\n",
       "      <th>lead_actor</th>\n",
       "    </tr>\n",
       "  </thead>\n",
       "  <tbody>\n",
       "    <tr>\n",
       "      <th>8015</th>\n",
       "      <td>TV Show</td>\n",
       "      <td>Sid the Science Kid</td>\n",
       "      <td>Not Menctioned</td>\n",
       "      <td>Drew Massey, Julianne Buescher, Victor Yerrid,...</td>\n",
       "      <td>United States</td>\n",
       "      <td>2020-03-31</td>\n",
       "      <td>2008</td>\n",
       "      <td>TV-Y</td>\n",
       "      <td>1 Season</td>\n",
       "      <td>Kids' TV</td>\n",
       "      <td>2020</td>\n",
       "      <td>3</td>\n",
       "      <td>31</td>\n",
       "      <td>Kids' TV</td>\n",
       "      <td>Drew Massey</td>\n",
       "    </tr>\n",
       "    <tr>\n",
       "      <th>182</th>\n",
       "      <td>Movie</td>\n",
       "      <td>Welcome Home Roscoe Jenkins</td>\n",
       "      <td>Malcolm D. Lee</td>\n",
       "      <td>Martin Lawrence, James Earl Jones, Joy Bryant,...</td>\n",
       "      <td>United States</td>\n",
       "      <td>2021-09-01</td>\n",
       "      <td>2008</td>\n",
       "      <td>PG-13</td>\n",
       "      <td>114 min</td>\n",
       "      <td>Comedies</td>\n",
       "      <td>2021</td>\n",
       "      <td>9</td>\n",
       "      <td>1</td>\n",
       "      <td>Comedies</td>\n",
       "      <td>Martin Lawrence</td>\n",
       "    </tr>\n",
       "    <tr>\n",
       "      <th>3078</th>\n",
       "      <td>Movie</td>\n",
       "      <td>Albert Pinto Ko Gussa Kyun Aata Hai?</td>\n",
       "      <td>Soumitra Ranade</td>\n",
       "      <td>Nandita Das, Manav Kaul, Saurabh Shukla, Kisho...</td>\n",
       "      <td>India</td>\n",
       "      <td>2019-12-31</td>\n",
       "      <td>2019</td>\n",
       "      <td>TV-MA</td>\n",
       "      <td>85 min</td>\n",
       "      <td>Dramas, Independent Movies, International Movies</td>\n",
       "      <td>2019</td>\n",
       "      <td>12</td>\n",
       "      <td>31</td>\n",
       "      <td>Dramas</td>\n",
       "      <td>Nandita Das</td>\n",
       "    </tr>\n",
       "    <tr>\n",
       "      <th>5382</th>\n",
       "      <td>TV Show</td>\n",
       "      <td>Diamond Lover</td>\n",
       "      <td>Not Menctioned</td>\n",
       "      <td>Rain, Tiffany Tang, Luo Jin, Dilraba Dilmurat,...</td>\n",
       "      <td>China</td>\n",
       "      <td>2017-07-07</td>\n",
       "      <td>2015</td>\n",
       "      <td>TV-PG</td>\n",
       "      <td>1 Season</td>\n",
       "      <td>International TV Shows, Romantic TV Shows, TV ...</td>\n",
       "      <td>2017</td>\n",
       "      <td>7</td>\n",
       "      <td>7</td>\n",
       "      <td>International TV Shows</td>\n",
       "      <td>Rain</td>\n",
       "    </tr>\n",
       "    <tr>\n",
       "      <th>2897</th>\n",
       "      <td>Movie</td>\n",
       "      <td>The Last Thing He Wanted</td>\n",
       "      <td>Dee Rees</td>\n",
       "      <td>Anne Hathaway, Ben Affleck, Willem Dafoe, Toby...</td>\n",
       "      <td>United States</td>\n",
       "      <td>2020-02-21</td>\n",
       "      <td>2020</td>\n",
       "      <td>R</td>\n",
       "      <td>116 min</td>\n",
       "      <td>Dramas, Thrillers</td>\n",
       "      <td>2020</td>\n",
       "      <td>2</td>\n",
       "      <td>21</td>\n",
       "      <td>Dramas</td>\n",
       "      <td>Anne Hathaway</td>\n",
       "    </tr>\n",
       "  </tbody>\n",
       "</table>\n",
       "</div>"
      ],
      "text/plain": [
       "         type                                 title         director  \\\n",
       "8015  TV Show                   Sid the Science Kid   Not Menctioned   \n",
       "182     Movie           Welcome Home Roscoe Jenkins   Malcolm D. Lee   \n",
       "3078    Movie  Albert Pinto Ko Gussa Kyun Aata Hai?  Soumitra Ranade   \n",
       "5382  TV Show                         Diamond Lover   Not Menctioned   \n",
       "2897    Movie              The Last Thing He Wanted         Dee Rees   \n",
       "\n",
       "                                                   cast        country  \\\n",
       "8015  Drew Massey, Julianne Buescher, Victor Yerrid,...  United States   \n",
       "182   Martin Lawrence, James Earl Jones, Joy Bryant,...  United States   \n",
       "3078  Nandita Das, Manav Kaul, Saurabh Shukla, Kisho...          India   \n",
       "5382  Rain, Tiffany Tang, Luo Jin, Dilraba Dilmurat,...          China   \n",
       "2897  Anne Hathaway, Ben Affleck, Willem Dafoe, Toby...  United States   \n",
       "\n",
       "     date_added  release_year rating  duration  \\\n",
       "8015 2020-03-31          2008   TV-Y  1 Season   \n",
       "182  2021-09-01          2008  PG-13   114 min   \n",
       "3078 2019-12-31          2019  TV-MA    85 min   \n",
       "5382 2017-07-07          2015  TV-PG  1 Season   \n",
       "2897 2020-02-21          2020      R   116 min   \n",
       "\n",
       "                                              listed_in  year  month  day  \\\n",
       "8015                                           Kids' TV  2020      3   31   \n",
       "182                                            Comedies  2021      9    1   \n",
       "3078   Dramas, Independent Movies, International Movies  2019     12   31   \n",
       "5382  International TV Shows, Romantic TV Shows, TV ...  2017      7    7   \n",
       "2897                                  Dramas, Thrillers  2020      2   21   \n",
       "\n",
       "                       genre       lead_actor  \n",
       "8015                Kids' TV      Drew Massey  \n",
       "182                 Comedies  Martin Lawrence  \n",
       "3078                  Dramas      Nandita Das  \n",
       "5382  International TV Shows             Rain  \n",
       "2897                  Dramas    Anne Hathaway  "
      ]
     },
     "execution_count": 41,
     "metadata": {},
     "output_type": "execute_result"
    }
   ],
   "source": [
    "df.sample(5)"
   ]
  },
  {
   "cell_type": "code",
   "execution_count": 42,
   "id": "5428fe7e",
   "metadata": {},
   "outputs": [],
   "source": [
    "# as we used the required information from columns cast & listed_in we remove them \n",
    "df.drop([\"cast\",\"listed_in\",\"date_added\"],axis=1,inplace=True)"
   ]
  },
  {
   "cell_type": "code",
   "execution_count": 43,
   "id": "306c5752",
   "metadata": {},
   "outputs": [
    {
     "data": {
      "text/html": [
       "<div>\n",
       "<style scoped>\n",
       "    .dataframe tbody tr th:only-of-type {\n",
       "        vertical-align: middle;\n",
       "    }\n",
       "\n",
       "    .dataframe tbody tr th {\n",
       "        vertical-align: top;\n",
       "    }\n",
       "\n",
       "    .dataframe thead th {\n",
       "        text-align: right;\n",
       "    }\n",
       "</style>\n",
       "<table border=\"1\" class=\"dataframe\">\n",
       "  <thead>\n",
       "    <tr style=\"text-align: right;\">\n",
       "      <th></th>\n",
       "      <th>type</th>\n",
       "      <th>title</th>\n",
       "      <th>director</th>\n",
       "      <th>country</th>\n",
       "      <th>release_year</th>\n",
       "      <th>rating</th>\n",
       "      <th>duration</th>\n",
       "      <th>year</th>\n",
       "      <th>month</th>\n",
       "      <th>day</th>\n",
       "      <th>genre</th>\n",
       "      <th>lead_actor</th>\n",
       "    </tr>\n",
       "  </thead>\n",
       "  <tbody>\n",
       "    <tr>\n",
       "      <th>5343</th>\n",
       "      <td>Movie</td>\n",
       "      <td>Icarus</td>\n",
       "      <td>Bryan Fogel</td>\n",
       "      <td>United States</td>\n",
       "      <td>2017</td>\n",
       "      <td>TV-MA</td>\n",
       "      <td>121 min</td>\n",
       "      <td>2017</td>\n",
       "      <td>8</td>\n",
       "      <td>4</td>\n",
       "      <td>Documentaries</td>\n",
       "      <td>Bryan Fogel</td>\n",
       "    </tr>\n",
       "    <tr>\n",
       "      <th>7074</th>\n",
       "      <td>Movie</td>\n",
       "      <td>Indiscretion</td>\n",
       "      <td>John Stewart Muller</td>\n",
       "      <td>United States</td>\n",
       "      <td>2016</td>\n",
       "      <td>TV-MA</td>\n",
       "      <td>99 min</td>\n",
       "      <td>2017</td>\n",
       "      <td>2</td>\n",
       "      <td>1</td>\n",
       "      <td>Dramas</td>\n",
       "      <td>Mira Sorvino</td>\n",
       "    </tr>\n",
       "    <tr>\n",
       "      <th>7856</th>\n",
       "      <td>TV Show</td>\n",
       "      <td>Republic of Doyle</td>\n",
       "      <td>Not Menctioned</td>\n",
       "      <td>Canada</td>\n",
       "      <td>2014</td>\n",
       "      <td>TV-14</td>\n",
       "      <td>6 Seasons</td>\n",
       "      <td>2020</td>\n",
       "      <td>5</td>\n",
       "      <td>28</td>\n",
       "      <td>Crime TV Shows</td>\n",
       "      <td>Allan Hawco</td>\n",
       "    </tr>\n",
       "    <tr>\n",
       "      <th>5757</th>\n",
       "      <td>Movie</td>\n",
       "      <td>13TH</td>\n",
       "      <td>Ava DuVernay</td>\n",
       "      <td>United States</td>\n",
       "      <td>2016</td>\n",
       "      <td>TV-MA</td>\n",
       "      <td>101 min</td>\n",
       "      <td>2016</td>\n",
       "      <td>10</td>\n",
       "      <td>7</td>\n",
       "      <td>Documentaries</td>\n",
       "      <td>Not Menctioned</td>\n",
       "    </tr>\n",
       "    <tr>\n",
       "      <th>2487</th>\n",
       "      <td>Movie</td>\n",
       "      <td>No Longer kids</td>\n",
       "      <td>Samir Al Asfory</td>\n",
       "      <td>Egypt</td>\n",
       "      <td>1979</td>\n",
       "      <td>TV-14</td>\n",
       "      <td>237 min</td>\n",
       "      <td>2020</td>\n",
       "      <td>5</td>\n",
       "      <td>21</td>\n",
       "      <td>Comedies</td>\n",
       "      <td>Said Saleh</td>\n",
       "    </tr>\n",
       "  </tbody>\n",
       "</table>\n",
       "</div>"
      ],
      "text/plain": [
       "         type              title             director        country  \\\n",
       "5343    Movie             Icarus          Bryan Fogel  United States   \n",
       "7074    Movie       Indiscretion  John Stewart Muller  United States   \n",
       "7856  TV Show  Republic of Doyle       Not Menctioned         Canada   \n",
       "5757    Movie               13TH         Ava DuVernay  United States   \n",
       "2487    Movie     No Longer kids      Samir Al Asfory          Egypt   \n",
       "\n",
       "      release_year rating   duration  year  month  day           genre  \\\n",
       "5343          2017  TV-MA    121 min  2017      8    4   Documentaries   \n",
       "7074          2016  TV-MA     99 min  2017      2    1          Dramas   \n",
       "7856          2014  TV-14  6 Seasons  2020      5   28  Crime TV Shows   \n",
       "5757          2016  TV-MA    101 min  2016     10    7   Documentaries   \n",
       "2487          1979  TV-14    237 min  2020      5   21        Comedies   \n",
       "\n",
       "          lead_actor  \n",
       "5343     Bryan Fogel  \n",
       "7074    Mira Sorvino  \n",
       "7856     Allan Hawco  \n",
       "5757  Not Menctioned  \n",
       "2487      Said Saleh  "
      ]
     },
     "execution_count": 43,
     "metadata": {},
     "output_type": "execute_result"
    }
   ],
   "source": [
    "df.sample(5)"
   ]
  },
  {
   "cell_type": "code",
   "execution_count": 44,
   "id": "1341a183",
   "metadata": {},
   "outputs": [],
   "source": [
    "# now cleaned_data is present in the system folder for further analytics"
   ]
  },
  {
   "cell_type": "code",
   "execution_count": 45,
   "id": "fa0cfbb0",
   "metadata": {},
   "outputs": [],
   "source": [
    "#df.to_csv(\"cleaned_data.csv\") # we can not only read the csv files we can also write csv also"
   ]
  },
  {
   "cell_type": "code",
   "execution_count": 46,
   "id": "4dcf2402",
   "metadata": {},
   "outputs": [
    {
     "data": {
      "text/plain": [
       "<bound method DataFrame.info of          type                  title         director        country  \\\n",
       "0       Movie   Dick Johnson Is Dead  Kirsten Johnson  United States   \n",
       "1     TV Show          Blood & Water   Not Menctioned   South Africa   \n",
       "2     TV Show              Ganglands  Julien Leclercq  United States   \n",
       "3     TV Show  Jailbirds New Orleans   Not Menctioned  United States   \n",
       "4     TV Show           Kota Factory   Not Menctioned          India   \n",
       "...       ...                    ...              ...            ...   \n",
       "8802    Movie                 Zodiac    David Fincher  United States   \n",
       "8803  TV Show            Zombie Dumb   Not Menctioned  United States   \n",
       "8804    Movie             Zombieland  Ruben Fleischer  United States   \n",
       "8805    Movie                   Zoom     Peter Hewitt  United States   \n",
       "8806    Movie                 Zubaan      Mozez Singh          India   \n",
       "\n",
       "      release_year rating   duration  year  month  day  \\\n",
       "0             2020  PG-13     90 min  2021      9   25   \n",
       "1             2021  TV-MA  2 Seasons  2021      9   24   \n",
       "2             2021  TV-MA   1 Season  2021      9   24   \n",
       "3             2021  TV-MA   1 Season  2021      9   24   \n",
       "4             2021  TV-MA  2 Seasons  2021      9   24   \n",
       "...            ...    ...        ...   ...    ...  ...   \n",
       "8802          2007      R    158 min  2019     11   20   \n",
       "8803          2018  TV-Y7  2 Seasons  2019      7    1   \n",
       "8804          2009      R     88 min  2019     11    1   \n",
       "8805          2006     PG     88 min  2020      1   11   \n",
       "8806          2015  TV-14    111 min  2019      3    2   \n",
       "\n",
       "                         genre       lead_actor  \n",
       "0                Documentaries   Not Menctioned  \n",
       "1       International TV Shows       Ama Qamata  \n",
       "2               Crime TV Shows    Sami Bouajila  \n",
       "3                   Docuseries   Not Menctioned  \n",
       "4       International TV Shows       Mayur More  \n",
       "...                        ...              ...  \n",
       "8802               Cult Movies     Mark Ruffalo  \n",
       "8803                  Kids' TV   Not Menctioned  \n",
       "8804                  Comedies  Jesse Eisenberg  \n",
       "8805  Children & Family Movies        Tim Allen  \n",
       "8806                    Dramas    Vicky Kaushal  \n",
       "\n",
       "[8804 rows x 12 columns]>"
      ]
     },
     "execution_count": 46,
     "metadata": {},
     "output_type": "execute_result"
    }
   ],
   "source": [
    "df.info"
   ]
  },
  {
   "cell_type": "code",
   "execution_count": 47,
   "id": "591748e6",
   "metadata": {},
   "outputs": [
    {
     "data": {
      "text/plain": [
       "(8804, 12)"
      ]
     },
     "execution_count": 47,
     "metadata": {},
     "output_type": "execute_result"
    }
   ],
   "source": [
    "df.shape"
   ]
  },
  {
   "cell_type": "code",
   "execution_count": null,
   "id": "742e40f9",
   "metadata": {},
   "outputs": [],
   "source": []
  },
  {
   "cell_type": "code",
   "execution_count": null,
   "id": "eebf1f82",
   "metadata": {},
   "outputs": [],
   "source": []
  },
  {
   "cell_type": "code",
   "execution_count": null,
   "id": "0ba7f546",
   "metadata": {},
   "outputs": [],
   "source": []
  }
 ],
 "metadata": {
  "kernelspec": {
   "display_name": "Python 3 (ipykernel)",
   "language": "python",
   "name": "python3"
  },
  "language_info": {
   "codemirror_mode": {
    "name": "ipython",
    "version": 3
   },
   "file_extension": ".py",
   "mimetype": "text/x-python",
   "name": "python",
   "nbconvert_exporter": "python",
   "pygments_lexer": "ipython3",
   "version": "3.9.13"
  }
 },
 "nbformat": 4,
 "nbformat_minor": 5
}
